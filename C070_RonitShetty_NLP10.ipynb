{
  "nbformat": 4,
  "nbformat_minor": 0,
  "metadata": {
    "colab": {
      "provenance": [],
      "authorship_tag": "ABX9TyOlJrBNqEgCRdLPegNVhZjc",
      "include_colab_link": true
    },
    "kernelspec": {
      "name": "python3",
      "display_name": "Python 3"
    },
    "language_info": {
      "name": "python"
    }
  },
  "cells": [
    {
      "cell_type": "markdown",
      "metadata": {
        "id": "view-in-github",
        "colab_type": "text"
      },
      "source": [
        "<a href=\"https://colab.research.google.com/github/RonitShetty/NLP-Labs/blob/main/C070_RonitShetty_NLP10.ipynb\" target=\"_parent\"><img src=\"https://colab.research.google.com/assets/colab-badge.svg\" alt=\"Open In Colab\"/></a>"
      ]
    },
    {
      "cell_type": "code",
      "execution_count": 2,
      "metadata": {
        "colab": {
          "base_uri": "https://localhost:8080/",
          "height": 1000
        },
        "id": "Ve_cSbcn7dbx",
        "outputId": "66c40306-45a6-41e2-a0f4-efc2232bf137"
      },
      "outputs": [
        {
          "output_type": "stream",
          "name": "stdout",
          "text": [
            "Loading data...\n",
            "Data head:\n",
            "                                                   review sentiment\n",
            "33553  I really liked this Summerslam due to the look...  positive\n",
            "9427   Not many television shows appeal to quite as m...  positive\n",
            "199    The film quickly gets to a major chase scene w...  negative\n",
            "12447  Jane Austen would definitely approve of this o...  positive\n",
            "39489  Expectations were somewhat high for me when I ...  negative\n",
            "\n",
            "Value counts:\n",
            " sentiment\n",
            "positive    5039\n",
            "negative    4961\n",
            "Name: count, dtype: int64\n",
            "\n",
            "Preprocessing text...\n"
          ]
        },
        {
          "output_type": "stream",
          "name": "stderr",
          "text": [
            "[nltk_data] Downloading package stopwords to /root/nltk_data...\n",
            "[nltk_data]   Unzipping corpora/stopwords.zip.\n"
          ]
        },
        {
          "output_type": "stream",
          "name": "stdout",
          "text": [
            "Sample processed review:\n",
            "                                                   review  \\\n",
            "33553  I really liked this Summerslam due to the look...   \n",
            "9427   Not many television shows appeal to quite as m...   \n",
            "199    The film quickly gets to a major chase scene w...   \n",
            "12447  Jane Austen would definitely approve of this o...   \n",
            "39489  Expectations were somewhat high for me when I ...   \n",
            "\n",
            "                                        processed_review  \n",
            "33553  realli like summerslam due look arena curtain ...  \n",
            "9427   mani televis show appeal quit mani differ kind...  \n",
            "199    film quickli get major chase scene ever increa...  \n",
            "12447  jane austen would definit approv one gwyneth p...  \n",
            "39489  expect somewhat high went see movi thought ste...  \n",
            "\n",
            "Vectorizing text...\n",
            "\n",
            "Splitting data and training the model...\n",
            "Model training complete.\n",
            "\n",
            "Evaluating the model...\n",
            "Accuracy: 0.8670\n",
            "\n",
            "Classification Report:\n",
            "               precision    recall  f1-score   support\n",
            "\n",
            "           0       0.88      0.84      0.86       999\n",
            "           1       0.85      0.89      0.87      1001\n",
            "\n",
            "    accuracy                           0.87      2000\n",
            "   macro avg       0.87      0.87      0.87      2000\n",
            "weighted avg       0.87      0.87      0.87      2000\n",
            "\n",
            "\n",
            "Confusion Matrix:\n"
          ]
        },
        {
          "output_type": "display_data",
          "data": {
            "text/plain": [
              "<Figure size 640x480 with 2 Axes>"
            ],
            "image/png": "[encoded data removed]"
          },
          "metadata": {}
        },
        {
          "output_type": "stream",
          "name": "stdout",
          "text": [
            "\n",
            "Testing with new reviews...\n",
            "Review: 'This movie was absolutely fantastic! The acting was superb and the plot was thrilling.'\n",
            "Predicted Sentiment: Positive \n",
            "\n",
            "Review: 'A complete waste of time. The plot was predictable and the acting was terrible.'\n",
            "Predicted Sentiment: Negative\n"
          ]
        }
      ],
      "source": [
        "import pandas as pd\n",
        "import re\n",
        "import nltk\n",
        "from nltk.corpus import stopwords\n",
        "from nltk.stem import PorterStemmer\n",
        "from sklearn.feature_extraction.text import TfidfVectorizer\n",
        "from sklearn.model_selection import train_test_split\n",
        "from sklearn.linear_model import LogisticRegression\n",
        "from sklearn.metrics import accuracy_score, classification_report, confusion_matrix\n",
        "import seaborn as sns\n",
        "import matplotlib.pyplot as plt\n",
        "\n",
        "# --- 1. Load and Inspect Data ---\n",
        "print(\"Loading data...\")\n",
        "df = pd.read_csv('IMDB Dataset.csv')\n",
        "\n",
        "# Let's work with a smaller sample for faster processing\n",
        "df = df.sample(n=10000, random_state=42)\n",
        "\n",
        "print(\"Data head:\\n\", df.head())\n",
        "print(\"\\nValue counts:\\n\", df['sentiment'].value_counts())\n",
        "\n",
        "# --- 2. Text Preprocessing ---\n",
        "print(\"\\nPreprocessing text...\")\n",
        "\n",
        "# Download stopwords if you haven't already\n",
        "nltk.download('stopwords')\n",
        "stop_words = set(stopwords.words('english'))\n",
        "stemmer = PorterStemmer()\n",
        "\n",
        "def preprocess_text(text):\n",
        "    # Remove HTML tags\n",
        "    text = re.sub(r'<.*?>', '', text)\n",
        "    # Remove non-alphabetic characters and convert to lowercase\n",
        "    text = re.sub(r'[^a-zA-Z]', ' ', text).lower()\n",
        "    # Tokenize the text\n",
        "    words = text.split()\n",
        "    # Remove stop words and apply stemming\n",
        "    words = [stemmer.stem(word) for word in words if word not in stop_words]\n",
        "    # Join words back to a single string\n",
        "    return ' '.join(words)\n",
        "\n",
        "# Apply the preprocessing function\n",
        "df['processed_review'] = df['review'].apply(preprocess_text)\n",
        "print(\"Sample processed review:\\n\", df[['review', 'processed_review']].head())\n",
        "\n",
        "\n",
        "# --- 3. Feature Extraction (TF-IDF Vectorization) ---\n",
        "print(\"\\nVectorizing text...\")\n",
        "# TF-IDF turns text into numerical data based on word frequency and importance.\n",
        "vectorizer = TfidfVectorizer(max_features=5000) # Use top 5000 features\n",
        "X = vectorizer.fit_transform(df['processed_review']).toarray()\n",
        "\n",
        "# Convert sentiment labels to binary (positive=1, negative=0)\n",
        "y = df['sentiment'].apply(lambda x: 1 if x == 'positive' else 0)\n",
        "\n",
        "\n",
        "# --- 4. Split Data and Train Model ---\n",
        "print(\"\\nSplitting data and training the model...\")\n",
        "X_train, X_test, y_train, y_test = train_test_split(X, y, test_size=0.2, random_state=42)\n",
        "\n",
        "# We'll use Logistic Regression, a simple and effective model for this task.\n",
        "model = LogisticRegression()\n",
        "model.fit(X_train, y_train)\n",
        "print(\"Model training complete.\")\n",
        "\n",
        "\n",
        "# --- 5. Evaluate the Model ---\n",
        "print(\"\\nEvaluating the model...\")\n",
        "y_pred = model.predict(X_test)\n",
        "\n",
        "accuracy = accuracy_score(y_test, y_pred)\n",
        "print(f\"Accuracy: {accuracy:.4f}\")\n",
        "\n",
        "print(\"\\nClassification Report:\\n\", classification_report(y_test, y_pred))\n",
        "\n",
        "# Plotting the confusion matrix for better visualization\n",
        "print(\"\\nConfusion Matrix:\")\n",
        "cm = confusion_matrix(y_test, y_pred)\n",
        "sns.heatmap(cm, annot=True, fmt='d', cmap='Blues', xticklabels=['Negative', 'Positive'], yticklabels=['Negative', 'Positive'])\n",
        "plt.xlabel('Predicted')\n",
        "plt.ylabel('Actual')\n",
        "plt.show()\n",
        "\n",
        "\n",
        "# --- 6. Test with New Reviews ---\n",
        "print(\"\\nTesting with new reviews...\")\n",
        "\n",
        "def predict_sentiment(review):\n",
        "    processed_review = preprocess_text(review)\n",
        "    vectorized_review = vectorizer.transform([processed_review]).toarray()\n",
        "    prediction = model.predict(vectorized_review)\n",
        "    return 'Positive' if prediction[0] == 1 else 'Negative'\n",
        "\n",
        "# Example tests\n",
        "test_review_1 = \"This movie was absolutely fantastic! The acting was superb and the plot was thrilling.\"\n",
        "test_review_2 = \"A complete waste of time. The plot was predictable and the acting was terrible.\"\n",
        "\n",
        "print(f\"Review: '{test_review_1}'\")\n",
        "print(f\"Predicted Sentiment: {predict_sentiment(test_review_1)} \\n\")\n",
        "\n",
        "print(f\"Review: '{test_review_2}'\")\n",
        "print(f\"Predicted Sentiment: {predict_sentiment(test_review_2)}\")"
      ]
    }
  ]
}